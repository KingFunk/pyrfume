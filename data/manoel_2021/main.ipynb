{
 "cells": [
  {
   "cell_type": "code",
   "execution_count": 15,
   "metadata": {},
   "outputs": [],
   "source": [
    "import pandas as pd\n",
    "from pyrfume.odorants import cids_to_smiles"
   ]
  },
  {
   "cell_type": "code",
   "execution_count": 12,
   "metadata": {},
   "outputs": [
    {
     "name": "stdout",
     "output_type": "stream",
     "text": [
      "Raw data has 402 mouse/odorant combos\n"
     ]
    }
   ],
   "source": [
    "# Load data about the odorants (names and PubChem IDs)\n",
    "rosetta = pd.read_excel(\"SmilesInfo2.xlsx\")\n",
    "threeletter_to_pubchem = dict(rosetta.iloc[:, -1:-3:-1].values)\n",
    "threeletter_to_pubchem[\"MEN\"] = threeletter_to_pubchem[\"+MEN\"]\n",
    "threeletter_to_pubchem = pd.Series(threeletter_to_pubchem, name='CID').to_frame()\n",
    "\n",
    "# Load raw mouse data (individual mouse level)\n",
    "raw = pd.read_csv(\n",
    "    \"raw behavioral scores mouse 73 odorants.csv\", index_col=0, header=1\n",
    ").dropna()\n",
    "raw.index.name = \"odor\"\n",
    "raw = raw.join(threeletter_to_pubchem).sort_index()\n",
    "print(\"Raw data has %d mouse/odorant combos\" % raw.shape[0])"
   ]
  },
  {
   "cell_type": "code",
   "execution_count": 18,
   "metadata": {},
   "outputs": [
    {
     "data": {
      "application/vnd.jupyter.widget-view+json": {
       "model_id": "1c46a3887f054bc98cfc516b2383dcef",
       "version_major": 2,
       "version_minor": 0
      },
      "text/plain": [
       "HBox(children=(FloatProgress(value=0.0, max=1.0), HTML(value='')))"
      ]
     },
     "metadata": {},
     "output_type": "display_data"
    },
    {
     "name": "stdout",
     "output_type": "stream",
     "text": [
      "Retrieving 0 through 73\n",
      "\n"
     ]
    }
   ],
   "source": [
    "smiles = cids_to_smiles(raw['CID'].unique())"
   ]
  },
  {
   "cell_type": "code",
   "execution_count": 25,
   "metadata": {},
   "outputs": [],
   "source": [
    "result = raw.set_index('CID').join(pd.Series(smiles, name='SMILES')).set_index('SMILES')\n",
    "result.to_csv('behavior-main.csv')"
   ]
  }
 ],
 "metadata": {
  "kernelspec": {
   "display_name": "Python 3",
   "language": "python",
   "name": "python3"
  },
  "language_info": {
   "codemirror_mode": {
    "name": "ipython",
    "version": 3
   },
   "file_extension": ".py",
   "mimetype": "text/x-python",
   "name": "python",
   "nbconvert_exporter": "python",
   "pygments_lexer": "ipython3",
   "version": "3.8.3"
  }
 },
 "nbformat": 4,
 "nbformat_minor": 4
}
