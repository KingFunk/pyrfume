{
 "cells": [
  {
   "cell_type": "code",
   "execution_count": 32,
   "metadata": {},
   "outputs": [],
   "source": [
    "import pandas as pd\n",
    "from pyrfume.odorants import from_cids"
   ]
  },
  {
   "cell_type": "code",
   "execution_count": 4,
   "metadata": {},
   "outputs": [
    {
     "data": {
      "text/html": [
       "<div>\n",
       "<style scoped>\n",
       "    .dataframe tbody tr th:only-of-type {\n",
       "        vertical-align: middle;\n",
       "    }\n",
       "\n",
       "    .dataframe tbody tr th {\n",
       "        vertical-align: top;\n",
       "    }\n",
       "\n",
       "    .dataframe thead th {\n",
       "        text-align: right;\n",
       "    }\n",
       "</style>\n",
       "<table border=\"1\" class=\"dataframe\">\n",
       "  <thead>\n",
       "    <tr style=\"text-align: right;\">\n",
       "      <th></th>\n",
       "      <th>A</th>\n",
       "      <th>B</th>\n",
       "      <th>Similarity</th>\n",
       "    </tr>\n",
       "  </thead>\n",
       "  <tbody>\n",
       "    <tr>\n",
       "      <th>1</th>\n",
       "      <td>6501,264,2879,7685,7731,326,7888,61138,8030,1183</td>\n",
       "      <td>240,93009,323,8148,7762,3314,460,6184,798,6054</td>\n",
       "      <td>39.583333</td>\n",
       "    </tr>\n",
       "    <tr>\n",
       "      <th>2</th>\n",
       "      <td>6501,264,2879,7685,7731,326,7888,61138,8030,1183</td>\n",
       "      <td>7710</td>\n",
       "      <td>34.895833</td>\n",
       "    </tr>\n",
       "    <tr>\n",
       "      <th>3</th>\n",
       "      <td>6501,264,2879,7685,7731,326,7888,61138,8030,1183</td>\n",
       "      <td>31276,93009,11002,323,7966,8148,7632,22201,193...</td>\n",
       "      <td>47.395833</td>\n",
       "    </tr>\n",
       "    <tr>\n",
       "      <th>4</th>\n",
       "      <td>6501,264,2879,7685,7731,326,7888,61138,8030,1183</td>\n",
       "      <td>10890,93009,11002,6982,323,8797,7966,8148,7632...</td>\n",
       "      <td>49.479167</td>\n",
       "    </tr>\n",
       "    <tr>\n",
       "      <th>5</th>\n",
       "      <td>6501,264,2879,7685,7731,326,7888,61138,8030,1183</td>\n",
       "      <td>7710,31276,10890,240,93009,11002,6982,323,8797...</td>\n",
       "      <td>58.854167</td>\n",
       "    </tr>\n",
       "  </tbody>\n",
       "</table>\n",
       "</div>"
      ],
      "text/plain": [
       "                                                  A  \\\n",
       "1  6501,264,2879,7685,7731,326,7888,61138,8030,1183   \n",
       "2  6501,264,2879,7685,7731,326,7888,61138,8030,1183   \n",
       "3  6501,264,2879,7685,7731,326,7888,61138,8030,1183   \n",
       "4  6501,264,2879,7685,7731,326,7888,61138,8030,1183   \n",
       "5  6501,264,2879,7685,7731,326,7888,61138,8030,1183   \n",
       "\n",
       "                                                   B  Similarity  \n",
       "1     240,93009,323,8148,7762,3314,460,6184,798,6054   39.583333  \n",
       "2                                               7710   34.895833  \n",
       "3  31276,93009,11002,323,7966,8148,7632,22201,193...   47.395833  \n",
       "4  10890,93009,11002,6982,323,8797,7966,8148,7632...   49.479167  \n",
       "5  7710,31276,10890,240,93009,11002,6982,323,8797...   58.854167  "
      ]
     },
     "execution_count": 4,
     "metadata": {},
     "output_type": "execute_result"
    }
   ],
   "source": [
    "df1 = pd.read_csv('experiment1_comparisons.csv',\n",
    "            header=0,index_col=0,names=['A','B','Similarity'])\n",
    "df1_cids = pd.read_csv('experiment1_cids.csv', index_col=0)\n",
    "df1_cids = df1_cids.applymap(lambda x:x.replace('[','').replace(']','').strip().replace(' ',','))\n",
    "df1_cids\n",
    "df1.loc[:, ['A','B']] = df1.loc[:, ['A','B']].applymap(lambda x:df1_cids.loc[x]['Mixture Cids'])\n",
    "df1.head()"
   ]
  },
  {
   "cell_type": "code",
   "execution_count": 5,
   "metadata": {},
   "outputs": [
    {
     "data": {
      "text/html": [
       "<div>\n",
       "<style scoped>\n",
       "    .dataframe tbody tr th:only-of-type {\n",
       "        vertical-align: middle;\n",
       "    }\n",
       "\n",
       "    .dataframe tbody tr th {\n",
       "        vertical-align: top;\n",
       "    }\n",
       "\n",
       "    .dataframe thead th {\n",
       "        text-align: right;\n",
       "    }\n",
       "</style>\n",
       "<table border=\"1\" class=\"dataframe\">\n",
       "  <thead>\n",
       "    <tr style=\"text-align: right;\">\n",
       "      <th></th>\n",
       "      <th>A</th>\n",
       "      <th>B</th>\n",
       "      <th>Similarity</th>\n",
       "    </tr>\n",
       "  </thead>\n",
       "  <tbody>\n",
       "    <tr>\n",
       "      <th>1</th>\n",
       "      <td>326,26331,6544,1140</td>\n",
       "      <td>7710,62433,7519,7685,3314</td>\n",
       "      <td>42.892077</td>\n",
       "    </tr>\n",
       "    <tr>\n",
       "      <th>2</th>\n",
       "      <td>326,26331,6544,1140</td>\n",
       "      <td>31276,62433,7519,8129,12178,18827,10722</td>\n",
       "      <td>38.292519</td>\n",
       "    </tr>\n",
       "    <tr>\n",
       "      <th>3</th>\n",
       "      <td>326,26331,6544,1140</td>\n",
       "      <td>62433,8797,2758,3314,8635,61138,6054,6544,10722</td>\n",
       "      <td>58.220544</td>\n",
       "    </tr>\n",
       "    <tr>\n",
       "      <th>4</th>\n",
       "      <td>7410,240,93009,8635</td>\n",
       "      <td>7519,8148,31252,8103,5281168,6544</td>\n",
       "      <td>29.732108</td>\n",
       "    </tr>\n",
       "    <tr>\n",
       "      <th>5</th>\n",
       "      <td>7410,240,93009,8635</td>\n",
       "      <td>240,307,7731,2758,12178,62336,8635</td>\n",
       "      <td>62.231981</td>\n",
       "    </tr>\n",
       "  </tbody>\n",
       "</table>\n",
       "</div>"
      ],
      "text/plain": [
       "                     A                                                B  \\\n",
       "1  326,26331,6544,1140                        7710,62433,7519,7685,3314   \n",
       "2  326,26331,6544,1140          31276,62433,7519,8129,12178,18827,10722   \n",
       "3  326,26331,6544,1140  62433,8797,2758,3314,8635,61138,6054,6544,10722   \n",
       "4  7410,240,93009,8635                7519,8148,31252,8103,5281168,6544   \n",
       "5  7410,240,93009,8635               240,307,7731,2758,12178,62336,8635   \n",
       "\n",
       "   Similarity  \n",
       "1   42.892077  \n",
       "2   38.292519  \n",
       "3   58.220544  \n",
       "4   29.732108  \n",
       "5   62.231981  "
      ]
     },
     "execution_count": 5,
     "metadata": {},
     "output_type": "execute_result"
    }
   ],
   "source": [
    "df2 = pd.read_csv('experiment2_comparisons.csv',\n",
    "            header=0,index_col=0,names=['A','B','Similarity'])\n",
    "df2_cids = pd.read_csv('experiment2_cids.csv', index_col=0)\n",
    "df2_cids = df2_cids.applymap(lambda x:x.replace('[','').replace(']','').strip().replace(' ',','))\n",
    "df2_cids\n",
    "df2.loc[:, ['A','B']] = df2.loc[:, ['A','B']].applymap(lambda x:df2_cids.loc[x]['Mixture Cids'])\n",
    "df2.head()"
   ]
  },
  {
   "cell_type": "code",
   "execution_count": 7,
   "metadata": {},
   "outputs": [
    {
     "data": {
      "text/html": [
       "<div>\n",
       "<style scoped>\n",
       "    .dataframe tbody tr th:only-of-type {\n",
       "        vertical-align: middle;\n",
       "    }\n",
       "\n",
       "    .dataframe tbody tr th {\n",
       "        vertical-align: top;\n",
       "    }\n",
       "\n",
       "    .dataframe thead th {\n",
       "        text-align: right;\n",
       "    }\n",
       "</style>\n",
       "<table border=\"1\" class=\"dataframe\">\n",
       "  <thead>\n",
       "    <tr style=\"text-align: right;\">\n",
       "      <th></th>\n",
       "      <th>A</th>\n",
       "      <th>B</th>\n",
       "      <th>Similarity</th>\n",
       "    </tr>\n",
       "  </thead>\n",
       "  <tbody>\n",
       "    <tr>\n",
       "      <th>1</th>\n",
       "      <td>7410</td>\n",
       "      <td>19310</td>\n",
       "      <td>14.683684</td>\n",
       "    </tr>\n",
       "    <tr>\n",
       "      <th>2</th>\n",
       "      <td>7710</td>\n",
       "      <td>7749</td>\n",
       "      <td>30.498500</td>\n",
       "    </tr>\n",
       "    <tr>\n",
       "      <th>3</th>\n",
       "      <td>31276</td>\n",
       "      <td>3314</td>\n",
       "      <td>42.093500</td>\n",
       "    </tr>\n",
       "    <tr>\n",
       "      <th>4</th>\n",
       "      <td>7519</td>\n",
       "      <td>8129</td>\n",
       "      <td>48.214500</td>\n",
       "    </tr>\n",
       "    <tr>\n",
       "      <th>5</th>\n",
       "      <td>240</td>\n",
       "      <td>8103</td>\n",
       "      <td>59.620500</td>\n",
       "    </tr>\n",
       "  </tbody>\n",
       "</table>\n",
       "</div>"
      ],
      "text/plain": [
       "       A      B  Similarity\n",
       "1   7410  19310   14.683684\n",
       "2   7710   7749   30.498500\n",
       "3  31276   3314   42.093500\n",
       "4   7519   8129   48.214500\n",
       "5    240   8103   59.620500"
      ]
     },
     "execution_count": 7,
     "metadata": {},
     "output_type": "execute_result"
    }
   ],
   "source": [
    "df3 = pd.read_csv('experiment3_comparisons.csv',\n",
    "            header=0,index_col=0,names=['A','B','Similarity'])\n",
    "df3.head()"
   ]
  },
  {
   "cell_type": "code",
   "execution_count": 12,
   "metadata": {},
   "outputs": [],
   "source": [
    "df = pd.concat([df1, df2, df3])\n",
    "df.to_csv('behavior-main.csv')"
   ]
  },
  {
   "cell_type": "code",
   "execution_count": 23,
   "metadata": {},
   "outputs": [],
   "source": [
    "cids1 = df1_cids['Mixture Cids'].apply(str.split, args=(',')).sum()\n",
    "cids2 = df2_cids['Mixture Cids'].apply(str.split, args=(',')).sum()\n",
    "cids3 = list(df3[['A', 'B']].values.ravel())"
   ]
  },
  {
   "cell_type": "code",
   "execution_count": 34,
   "metadata": {},
   "outputs": [],
   "source": [
    "cids = cids1 + cids2 + cids3\n",
    "cids = list(set(map(int, cids)))"
   ]
  },
  {
   "cell_type": "code",
   "execution_count": 36,
   "metadata": {},
   "outputs": [
    {
     "data": {
      "application/vnd.jupyter.widget-view+json": {
       "model_id": "45319f118db1428c9f8c534d99612873",
       "version_major": 2,
       "version_minor": 0
      },
      "text/plain": [
       "HBox(children=(FloatProgress(value=0.0, max=1.0), HTML(value='')))"
      ]
     },
     "metadata": {},
     "output_type": "display_data"
    },
    {
     "name": "stdout",
     "output_type": "stream",
     "text": [
      "Retrieving 0 through 85\n",
      "\n"
     ]
    }
   ],
   "source": [
    "molecules_info = from_cids(cids)"
   ]
  },
  {
   "cell_type": "code",
   "execution_count": 42,
   "metadata": {},
   "outputs": [],
   "source": [
    "pd.DataFrame(molecules_info).set_index('CID').to_csv('molecules-info.csv')"
   ]
  }
 ],
 "metadata": {
  "kernelspec": {
   "display_name": "Python 3",
   "language": "python",
   "name": "python3"
  },
  "language_info": {
   "codemirror_mode": {
    "name": "ipython",
    "version": 3
   },
   "file_extension": ".py",
   "mimetype": "text/x-python",
   "name": "python",
   "nbconvert_exporter": "python",
   "pygments_lexer": "ipython3",
   "version": "3.8.3"
  }
 },
 "nbformat": 4,
 "nbformat_minor": 4
}
